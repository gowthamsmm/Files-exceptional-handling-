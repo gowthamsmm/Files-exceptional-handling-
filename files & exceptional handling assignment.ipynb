{
  "nbformat": 4,
  "nbformat_minor": 0,
  "metadata": {
    "colab": {
      "provenance": []
    },
    "kernelspec": {
      "name": "python3",
      "display_name": "Python 3"
    },
    "language_info": {
      "name": "python"
    }
  },
  "cells": [
    {
      "cell_type": "markdown",
      "source": [
        "# Files, exceptional handling, logging and memory management Questions"
      ],
      "metadata": {
        "id": "Ag54H2hR8WiQ"
      }
    },
    {
      "cell_type": "markdown",
      "source": [
        "1. What is the difference between interpreted and compiled languages?\n",
        "   * Compiled: Code translated to machine language before running. Faster\n",
        "     execution, less portable.\n",
        "   * Interpreted: Code translated to machine language line by line while\n",
        "     running. Slower execution, more portable.\n",
        "\n",
        "2. What is exception handling in Python?\n",
        "   * Exception handling in Python is a mechanism that allows you to gracefully deal with errors that occur during the execution of your program. Instead of the program crashing abruptly, you can anticipate these errors, handle them in a specific way, and allow your program to continue running (or terminate more cleanly).\n",
        "\n",
        "3. What is the purpose of the finally block in exception handling?\n",
        "   * The purpose of the finally block in Python's exception handling is to ensure that a specific block of code is always executed, regardless of whether an exception was raised in the try block or not, and regardless of whether that exception was handled by an except block.\n",
        "\n",
        "4. What is logging in Python?\n",
        "   * Logging in Python is a built-in module that provides a flexible and powerful way to track events that occur while your software runs. Instead of just printing information to the console (which can be overwhelming and difficult to manage in larger applications), logging allows you to record messages of varying severity to different destinations, such as files, the console, network services, or even email.\n",
        "\n",
        "5. What is the significance of the __del__ method in Python?\n",
        "   * The __del__ method in Python is a special method (also called a destructor) that is automatically called when an object is about to be destroyed or garbage-collected, typically when it goes out of scope or has no more references. Its significance lies in allowing developers to define cleanup actions for an object, such as releasing resources (e.g., closing files, network connections, or freeing memory).\n",
        "\n",
        "6. What is the difference between import and from ... import in Python?\n",
        "   * import module: Brings the whole module in. You access things using module.item. Keeps your code organized, avoids name clashes.\n",
        "   * from module import item: Brings specific items directly. You use them by\n",
        "     name. Can be shorter but might cause name clashes if items have the same name as something else.\n",
        "\n",
        "7. How can you handle multiple exceptions in Python?\n",
        "   * In Python, you can handle multiple exceptions using a single try block with multiple except clauses, a tuple of exceptions in a single except clause, or a combination of both. This allows you to manage different types of errors gracefully.\n",
        "\n",
        "8. What is the purpose of the with statement when handling files in Python?\n",
        "   * The with statement in Python is used when handling files to simplify resource management and ensure that files are properly opened and closed, even if an error occurs. It provides a clean and automatic way to manage file resources by handling setup and cleanup tasks, making code safer and more concise.\n",
        "\n",
        "9. What is the difference between multithreading and multiprocessing?\n",
        "   * Multithreading:\n",
        "     * Runs multiple threads in the same program, sharing memory.\n",
        "     * Good for tasks that wait (e.g., downloading files, reading data).\n",
        "     * Limited by Python’s GIL (only one thread runs at a time for CPU tasks).\n",
        "     * Example: Multiple threads reading different files at once.\n",
        "   * Multiprocessing:\n",
        "     * Runs multiple processes, each with its own memory and interpreter.\n",
        "     * Good for heavy calculations (e.g., processing images, math tasks).\n",
        "     * No GIL, so it uses multiple CPU cores for true parallelism.\n",
        "     * Example: Multiple processes crunching numbers separately.\n",
        "   * Difference:\n",
        "     * Threads share memory, are lighter, but GIL slows CPU tasks.\n",
        "     * Processes are independent, heavier, but truly parallel for CPU work.\n",
        "\n",
        "10. What are the advantages of using logging in a program?\n",
        "    * Logging transforms a program from a black box that either works or crashes into a system that provides valuable insights into its operation, making development, debugging, monitoring, and maintenance significantly easier.\n",
        "\n",
        "11.  What is memory management in Python?\n",
        "     * Memory management in Python is the process by which the Python interpreter automatically allocates and deallocates memory as your program runs.\n",
        "\n",
        "12. What are the basic steps involved in exception handling in Python?\n",
        "    * The basic steps involved in exception handling in Python follow a structured approach using the try, except, and optionally finally blocks:\n",
        "      * try: Put the code that might fail here.\n",
        "      * except: Specify how to handle different types of errors that might occur in the try block.\n",
        "      * finally (optional): Define code that should always run, whether an error occurred or not.\n",
        "\n",
        "13. Why is memory management important in Python?\n",
        "    * Memory management is crucial in Python for several key reasons, all contributing to the stability, efficiency, and ease of development of Python programs:\n",
        "      * Preventing Memory Leaks\n",
        "      * Simplifying Development\n",
        "      * Ensuring Program Stability\n",
        "      * Improving Resource Utilization\n",
        "      * Facilitating High-Level Programming\n",
        "\n",
        "14. What is the role of try and except in exception handling?\n",
        "    * try: This is where you put the code that might cause an error (an\n",
        "     \"exception\").\n",
        "\n",
        "    * except: If something does go wrong inside the try block, the code in the\n",
        "     corresponding except block is executed.\n",
        "\n",
        "15. How does Python's garbage collection system work?\n",
        "    * Python's garbage collection system primarily works through two main mechanisms, working in tandem to automatically manage memory:\n",
        "      * Reference Counting (Immediate Cleanup): Python keeps a little counter on each \"thing\" (object) that says how many other \"things\" are currently pointing to it. When that counter drops to zero, it's like saying nobody needs this anymore, so Python immediately takes it away to free up space.\n",
        "      * Generational Garbage Collector (Dealing with Clingy Groups): Sometimes, you have groups of \"things\" that are all pointing at each other, but nobody outside the group cares about them anymore. Their counters might not go to zero. The generational garbage collector is like a periodic sweep.\n",
        "\n",
        "16. What is the purpose of the else block in exception handling?\n",
        "    * The else block in Python's exception handling has a specific and somewhat less common purpose: it executes only if no exceptions were raised in the try block.\n",
        "      * Separating Success Code\n",
        "      * Avoiding Accidental Exception Catching\n",
        "      * Logical Flow\n",
        "\n",
        "17. What are the common logging levels in Python?\n",
        "    * The logging module in Python defines a standard set of logging levels to indicate the severity or importance of a log message. These levels allow you to filter and control which messages are displayed or recorded based on their significance.\n",
        "      * DEBUG (Numeric value: 10)\n",
        "      * INFO (Numeric value: 20)\n",
        "      * WARNING (Numeric value: 30)\n",
        "      * ERROR (Numeric value: 40)\n",
        "      * CRITICAL (Numeric value: 50)\n",
        "\n",
        "18. What is the difference between os.fork() and multiprocessing in Python?\n",
        "    * os.fork() and multiprocessing allow you to create new processes, multiprocessing offers a more robust, cross-platform, and easier-to-manage approach for most parallel programming needs in Python due to its independent memory spaces and higher-level synchronization primitives. os.fork() is a lower-level tool primarily available on Unix-like systems and requires more careful handling of shared resources.\n",
        "\n",
        "19. What is the importance of closing a file in Python?\n",
        "    * Closing files is about being a responsible programmer who manages resources effectively, ensures data integrity, and avoids potential conflicts with other processes or the operating system itself.\n",
        "\n",
        "20. What is the difference between file.read() and file.readline() in Python?\n",
        "    * file.read(): This method reads the entire scroll at once and returns it as a single string. If you don't specify a size argument, it will read until the end of the file. If you provide a size (e.g., file.read(10)), it will read at most that many bytes.\n",
        "    * file.readline(): This method reads only a single line from the scroll. It reads characters until it encounters a newline character (\\n) or the end of the file. It returns the line as a string, including the newline character if present. If you call it again, it will read the next line.\n",
        "\n",
        "21. What is the logging module in Python used for?\n",
        "    * The logging module in Python is used for tracking events that happen when your software runs. Think of it as a way for your program to keep a detailed diary of what it's doing, including normal operations, errors, warnings, and debugging information.\n",
        "\n",
        "22. What is the os module in Python used for in file handling?\n",
        "    * The os module in Python plays a crucial role in file handling by providing a way to interact with the operating system itself. It gives you functions to perform various file and directory-related tasks that are independent of the specific files' contents.\n",
        "\n",
        "23. What are the challenges associated with memory management in Python?\n",
        "    * The challenges associated with memory management in Python:\n",
        "      * Memory Leaks (Indirectly)\n",
        "      * Memory Fragmentation\n",
        "      * Copying of Mutable Objects\n",
        "      * Global Interpreter Lock (GIL)\n",
        "      * Interaction with C Extensions\n",
        "      * Garbage Collection Pauses\n",
        "\n",
        "24. How do you raise an exception manually in Python?\n",
        "    * You can manually raise an exception in Python using the raise statement.\n",
        "      * Raising a New Exception Instance: You can raise instances of built-in exception classes (like ValueError, TypeError, IOError, etc.) or your own custom exception classes (which should inherit from the base Exception class).\n",
        "      * Raising an Existing Exception (Reraising): Reraising an exception with raise preserves the original exception type and traceback, which is helpful for debugging.\n",
        "\n",
        "25. Why is it important to use multithreading in certain applications?\n",
        "    * Multithreading is a valuable tool for improving the responsiveness and efficiency of applications, especially those that are I/O-bound or need to maintain a responsive user interface while performing background work. However, it's essential to handle the complexities of thread synchronization carefully and to understand its limitations, particularly the impact of the GIL in CPython for CPU-bound tasks."
      ],
      "metadata": {
        "id": "Sd1E1Oo99zWF"
      }
    },
    {
      "cell_type": "markdown",
      "source": [
        "# Practical Questions"
      ],
      "metadata": {
        "id": "Rjeb5pAa3N4m"
      }
    },
    {
      "cell_type": "code",
      "source": [
        "# 1. How can you open a file for writing in Python and write a string to it?\n",
        "# Open file for writing and write a string\n",
        "with open(\"example.txt\", \"w\") as file:\n",
        "    file.write(\"Hello, World!\")"
      ],
      "metadata": {
        "id": "F5XSQmQ34qaO"
      },
      "execution_count": null,
      "outputs": []
    },
    {
      "cell_type": "code",
      "source": [
        "# 2. Write a Python program to read the contents of a file and print each line.\n",
        "try:\n",
        "    with open(\"example.txt\", \"r\") as file:\n",
        "        for line in file:\n",
        "            print(line.strip())  # strip() removes trailing newlines\n",
        "except FileNotFoundError:\n",
        "    print(\"Error: The file 'example.txt' was not found.\")\n",
        "except IOError:\n",
        "    print(\"Error: An issue occurred while reading the file.\")"
      ],
      "metadata": {
        "colab": {
          "base_uri": "https://localhost:8080/"
        },
        "collapsed": true,
        "id": "GmOhY7o38zyR",
        "outputId": "4526fad2-3812-4f2a-9d83-8fefa7d8f5a1"
      },
      "execution_count": null,
      "outputs": [
        {
          "output_type": "stream",
          "name": "stdout",
          "text": [
            "Hello, World!\n"
          ]
        }
      ]
    },
    {
      "cell_type": "code",
      "source": [
        "# 3. How would you handle a case where the file doesn't exist while trying to open it for reading?\n",
        "try:\n",
        "    with open(\"example.txt\", \"r\") as file:\n",
        "        for line in file:\n",
        "            print(line.strip())  # Print each line, removing newlines\n",
        "except FileNotFoundError:\n",
        "    print(\"Error: The file 'example.txt' does not exist.\")\n"
      ],
      "metadata": {
        "colab": {
          "base_uri": "https://localhost:8080/"
        },
        "collapsed": true,
        "id": "1NTujLv89W_Q",
        "outputId": "f6089700-1f4c-4610-fecb-a0db1fc0e504"
      },
      "execution_count": null,
      "outputs": [
        {
          "output_type": "stream",
          "name": "stdout",
          "text": [
            "Hello, World!\n"
          ]
        }
      ]
    },
    {
      "cell_type": "code",
      "source": [
        "# 4. Write a Python script that reads from one file and writes its content to another file\n",
        "import os\n",
        "\n",
        "def read_from_file_and_write_to_another(source_file_name, destination_file_name):\n",
        "    try:\n",
        "        if not os.path.exists(source_file_name):\n",
        "            raise FileNotFoundError(f\"Error: Source file '{source_file_name}' not found.\")\n",
        "\n",
        "        with open(source_file_name, 'r') as source_file:\n",
        "            file_content = source_file.read()\n",
        "\n",
        "        with open(destination_file_name, 'w') as destination_file:\n",
        "            destination_file.write(file_content)\n",
        "\n",
        "        print(f\"Successfully copied content from '{source_file_name}' to '{destination_file_name}'.\")\n",
        "\n",
        "    except FileNotFoundError as e:\n",
        "        print(f\"Error: {e}\")\n",
        "    except Exception as e:\n",
        "        print(f\"An unexpected error occurred: {e}\")\n",
        "    else:\n",
        "        return True\n",
        "    return False\n",
        "\n",
        "def main():\n",
        "    source_file = \"source.txt\"\n",
        "    destination_file = \"destination.txt\"\n",
        "\n",
        "    if not os.path.exists(source_file):\n",
        "        try:\n",
        "            with open(source_file, 'w') as f:\n",
        "                f.write(\"This is some sample content for the source file.\\n\")\n",
        "            print(f\"Created dummy source file: {source_file}\")\n",
        "        except Exception as e:\n",
        "            print(f\"Error creating dummy source file: {e}\")\n",
        "            return\n",
        "\n",
        "    result = read_from_file_and_write_to_another(source_file, destination_file)\n",
        "    if result:\n",
        "        print(\"File copy operation was successful.\")\n",
        "    else:\n",
        "        print(\"File copy operation failed.\")\n",
        "\n",
        "if __name__ == \"__main__\":\n",
        "    main()\n"
      ],
      "metadata": {
        "colab": {
          "base_uri": "https://localhost:8080/"
        },
        "collapsed": true,
        "id": "jhdxBZrZ-d-g",
        "outputId": "68b7aadd-487d-4536-e9d2-071538b79c71"
      },
      "execution_count": null,
      "outputs": [
        {
          "output_type": "stream",
          "name": "stdout",
          "text": [
            "Successfully copied content from 'source.txt' to 'destination.txt'.\n",
            "File copy operation was successful.\n"
          ]
        }
      ]
    },
    {
      "cell_type": "code",
      "source": [
        "# 5. How would you catch and handle division by zero error in Python\n",
        "# To catch and handle a division by zero error in Python, you can use a try/except block to catch the ZeroDivisionError exception, which is raised when a division or modulo operation involves zero as the divisor."
      ],
      "metadata": {
        "id": "WGjWOA0eAzVR"
      },
      "execution_count": null,
      "outputs": []
    },
    {
      "cell_type": "code",
      "source": [
        "# 6. Write a Python program that logs an error message to a log file when a division by zero exception occurs\n",
        "try:\n",
        "    numerator = 10\n",
        "    denominator = 0  # This will cause a division by zero\n",
        "    result = numerator / denominator\n",
        "    print(f\"Result: {result}\")\n",
        "except ZeroDivisionError:\n",
        "    print(\"Error: Division by zero is not allowed.\")"
      ],
      "metadata": {
        "colab": {
          "base_uri": "https://localhost:8080/"
        },
        "id": "KMS6DjRQBa7A",
        "outputId": "1018c8e3-964d-47ab-aa50-6d8345ce71e3"
      },
      "execution_count": null,
      "outputs": [
        {
          "output_type": "stream",
          "name": "stdout",
          "text": [
            "Error: Division by zero is not allowed.\n"
          ]
        }
      ]
    },
    {
      "cell_type": "code",
      "source": [
        "# 7. How do you log information at different levels (INFO, ERROR, WARNING) in Python using the logging module?\n",
        "# In Python, the logging module is used to log information at different levels, such as INFO, ERROR, and WARNING, allowing you to track events, debug issues, or log errors in a structured way. Unlike printing error messages directly to a file (as in your previous question about logging a division by zero error), the logging module provides more flexibility, including log levels, formatting, and output destinations (e.g., files, console).\n"
      ],
      "metadata": {
        "id": "uBalDwjECzZF"
      },
      "execution_count": null,
      "outputs": []
    },
    {
      "cell_type": "code",
      "source": [
        "# 8. Write a program to handle a file opening error using exception handling.\n",
        "import os\n",
        "\n",
        "def open_file_safely(filename):\n",
        "    try:\n",
        "        file_handle = open(filename, 'r')\n",
        "        print(f\"Successfully opened file: {filename}\")\n",
        "        return file_handle\n",
        "    except FileNotFoundError:\n",
        "        print(f\"Error: File not found - {filename}\")\n",
        "        return None\n",
        "    except Exception as e:\n",
        "        print(f\"An error occurred while opening the file: {e}\")\n",
        "        return None\n",
        "\n",
        "def process_file_content(file_handle, filename):\n",
        "    if file_handle is None:\n",
        "        return\n",
        "\n",
        "    try:\n",
        "        file_content = file_handle.read()\n",
        "        print(f\"\\nContent of file '{filename}':\\n{file_content}\")\n",
        "    except Exception as e:\n",
        "        print(f\"An error occurred while reading the file: {e}\")\n",
        "    finally:\n",
        "        try:\n",
        "            file_handle.close()\n",
        "            print(f\"Closed file: {filename}\")\n",
        "        except Exception as e:\n",
        "            print(f\"An error occurred while closing the file: {e}\")\n",
        "\n",
        "def main():\n",
        "    existing_file = \"existing_file.txt\"\n",
        "    if not os.path.exists(existing_file):\n",
        "        with open(existing_file, 'w') as f:\n",
        "            f.write(\"This is the content of the existing file.\\n\")\n",
        "\n",
        "    existing_file_handle = open_file_safely(existing_file)\n",
        "    process_file_content(existing_file_handle, existing_file)\n",
        "\n",
        "    non_existent_file = \"non_existent_file.txt\"\n",
        "    non_existent_file_handle = open_file_safely(non_existent_file)\n",
        "    process_file_content(non_existent_file_handle, non_existent_file)\n",
        "    print(\"File processing complete.\")\n",
        "\n",
        "if __name__ == \"__main__\":\n",
        "    main()\n"
      ],
      "metadata": {
        "colab": {
          "base_uri": "https://localhost:8080/"
        },
        "collapsed": true,
        "id": "qkHL1ENdD5mN",
        "outputId": "750c2f82-0064-42c2-b9bc-5f0ab361e81a"
      },
      "execution_count": null,
      "outputs": [
        {
          "output_type": "stream",
          "name": "stdout",
          "text": [
            "Successfully opened file: existing_file.txt\n",
            "\n",
            "Content of file 'existing_file.txt':\n",
            "This is the content of the existing file.\n",
            "\n",
            "Closed file: existing_file.txt\n",
            "Error: File not found - non_existent_file.txt\n",
            "File processing complete.\n"
          ]
        }
      ]
    },
    {
      "cell_type": "code",
      "source": [
        "# 9. How can you read a file line by line and store its content in a list in Python?\n",
        "# To read a file line by line and store its content in a list in Python, you can use the with statement to safely open the file and either a for loop or the readlines() method to collect lines into a list."
      ],
      "metadata": {
        "id": "9tJVa6qLEUJK"
      },
      "execution_count": null,
      "outputs": []
    },
    {
      "cell_type": "code",
      "source": [
        "# 10. How can you append data to an existing file in Python?\n",
        "# Use open(filename, \"a\") to open the file in append mode and write() to add data. The with statement ensures proper file closure, and exception handling catches potential errors."
      ],
      "metadata": {
        "id": "bkzjcr6jE59J"
      },
      "execution_count": null,
      "outputs": []
    },
    {
      "cell_type": "code",
      "source": [
        "# 11. Write a Python program that uses a try-except block to handle an error when attempting to access a dictionary key that doesn't exist\n",
        "def access_dictionary_key(my_dict, key):\n",
        "    try:\n",
        "        value = my_dict[key]\n",
        "        print(f\"Value for key '{key}': {value}\")\n",
        "        return value\n",
        "    except KeyError:\n",
        "        print(f\"Error: Key '{key}' not found in the dictionary.\")\n",
        "        return None\n",
        "    except Exception as e:\n",
        "        print(f\"An unexpected error occurred: {e}\")\n",
        "        return None\n",
        "\n",
        "def main():\n",
        "    my_dictionary = {\n",
        "        \"name\": \"Alice\",\n",
        "        \"age\": 30,\n",
        "        \"city\": \"New York\"\n",
        "    }\n",
        "\n",
        "    existing_key = \"age\"\n",
        "    access_dictionary_key(my_dictionary, existing_key)\n",
        "\n",
        "    non_existent_key = \"salary\"\n",
        "    access_dictionary_key(my_dictionary, non_existent_key)\n",
        "\n",
        "    invalid_key = 123\n",
        "    access_dictionary_key(my_dictionary, invalid_key)\n",
        "\n",
        "    print(\"Dictionary key access demonstration complete.\")\n",
        "\n",
        "if __name__ == \"__main__\":\n",
        "    main()\n"
      ],
      "metadata": {
        "colab": {
          "base_uri": "https://localhost:8080/"
        },
        "collapsed": true,
        "id": "2QVusl6_FSRD",
        "outputId": "03532b54-76a1-4229-f095-453b30770b68"
      },
      "execution_count": null,
      "outputs": [
        {
          "output_type": "stream",
          "name": "stdout",
          "text": [
            "Value for key 'age': 30\n",
            "Error: Key 'salary' not found in the dictionary.\n",
            "Error: Key '123' not found in the dictionary.\n",
            "Dictionary key access demonstration complete.\n"
          ]
        }
      ]
    },
    {
      "cell_type": "code",
      "source": [
        "# 12. Write a program that demonstrates using multiple except blocks to handle different types of exceptions\n",
        "def perform_operation(x, y, operation_type):\n",
        "    try:\n",
        "        if operation_type == \"add\":\n",
        "            result = x + y\n",
        "        elif operation_type == \"subtract\":\n",
        "            result = x - y\n",
        "        elif operation_type == \"multiply\":\n",
        "            result = x * y\n",
        "        elif operation_type == \"divide\":\n",
        "            result = x / y\n",
        "        else:\n",
        "            raise ValueError(\"Invalid operation type.  Choose 'add', 'subtract', 'multiply', or 'divide'.\")\n",
        "\n",
        "        print(f\"Result of {operation_type} operation: {result}\")\n",
        "        return result\n",
        "\n",
        "    except TypeError:\n",
        "        print(\"Error: Invalid data type. Please provide numbers as input.\")\n",
        "        return None\n",
        "    except ValueError as e:\n",
        "        print(f\"Error: {e}\")\n",
        "        return None\n",
        "    except ZeroDivisionError:\n",
        "        print(\"Error: Cannot divide by zero.\")\n",
        "        return None\n",
        "    except Exception as e:\n",
        "        print(f\"An unexpected error occurred: {e}\")\n",
        "        return None\n",
        "\n",
        "def main():\n",
        "    perform_operation(10, 5, \"add\")\n",
        "    perform_operation(10, 0, \"divide\")\n",
        "    perform_operation(10, \"abc\", \"add\")\n",
        "    perform_operation(10, 5, \"invalid\")\n",
        "    perform_operation(10.5, 2, \"multiply\")\n",
        "\n",
        "    print(\"Program execution complete.\")\n",
        "\n",
        "if __name__ == \"__main__\":\n",
        "    main()\n"
      ],
      "metadata": {
        "colab": {
          "base_uri": "https://localhost:8080/"
        },
        "collapsed": true,
        "id": "g9bhAlXYFzi6",
        "outputId": "796af3c5-7809-4766-e124-f06a922f45ad"
      },
      "execution_count": null,
      "outputs": [
        {
          "output_type": "stream",
          "name": "stdout",
          "text": [
            "Result of add operation: 15\n",
            "Error: Cannot divide by zero.\n",
            "Error: Invalid data type. Please provide numbers as input.\n",
            "Error: Invalid operation type.  Choose 'add', 'subtract', 'multiply', or 'divide'.\n",
            "Result of multiply operation: 21.0\n",
            "Program execution complete.\n"
          ]
        }
      ]
    },
    {
      "cell_type": "code",
      "source": [
        "# 13. How would you check if a file exists before attempting to read it in Python\n",
        "# Use os.path.exists() to check if the file exists before opening it with the with statement. If the file doesn’t exist, log and report the issue without attempting to read. Include exception handling for other potential errors during reading."
      ],
      "metadata": {
        "id": "PJ7s0gCsGbrO"
      },
      "execution_count": null,
      "outputs": []
    },
    {
      "cell_type": "code",
      "source": [
        "# 14. Write a program that uses the logging module to log both informational and error messages\n",
        "import logging\n",
        "\n",
        "def configure_logger(log_file_path=\"application.log\"):\n",
        "    logger = logging.getLogger(__name__)\n",
        "    logger.setLevel(logging.DEBUG)\n",
        "\n",
        "    file_handler = logging.FileHandler(log_file_path)\n",
        "    file_handler.setLevel(logging.DEBUG)\n",
        "\n",
        "    formatter = logging.Formatter('%(asctime)s - %(name)s - %(levelname)s - %(message)s')\n",
        "    file_handler.setFormatter(formatter)\n",
        "\n",
        "    logger.addHandler(file_handler)\n",
        "    return logger\n",
        "\n",
        "def perform_operation(x, y, operation_type, logger):\n",
        "    logger.info(f\"Performing {operation_type} operation with x={x}, y={y}\")\n",
        "\n",
        "    try:\n",
        "        if operation_type == \"add\":\n",
        "            result = x + y\n",
        "        elif operation_type == \"subtract\":\n",
        "            result = x - y\n",
        "        elif operation_type == \"multiply\":\n",
        "            result = x * y\n",
        "        elif operation_type == \"divide\":\n",
        "            if y == 0:\n",
        "                raise ZeroDivisionError(\"Cannot divide by zero\")\n",
        "            result = x / y\n",
        "        else:\n",
        "            raise ValueError(\"Invalid operation type.  Choose 'add', 'subtract', 'multiply', or 'divide'.\")\n",
        "\n",
        "        logger.info(f\"Operation successful. Result: {result}\")\n",
        "        return result\n",
        "\n",
        "    except TypeError:\n",
        "        logger.error(\"Error: Invalid data type. Please provide numbers as input.\")\n",
        "        return None\n",
        "    except ValueError as e:\n",
        "        logger.error(f\"Error: {e}\")\n",
        "        return None\n",
        "    except ZeroDivisionError as e:\n",
        "        logger.error(f\"Error: {e}\")\n",
        "        return None\n",
        "    except Exception as e:\n",
        "        logger.error(f\"An unexpected error occurred: {e}\")\n",
        "        return None\n",
        "\n",
        "def main():\n",
        "    logger = configure_logger()\n",
        "\n",
        "    perform_operation(10, 5, \"add\", logger)\n",
        "    perform_operation(10, 0, \"divide\", logger)\n",
        "    perform_operation(10, \"abc\", \"add\", logger)\n",
        "    perform_operation(10, 5, \"invalid\", logger)\n",
        "    perform_operation(10.5, 2, \"multiply\", logger)\n",
        "\n",
        "    logger.info(\"Program execution complete.\")\n",
        "\n",
        "if __name__ == \"__main__\":\n",
        "    main()\n"
      ],
      "metadata": {
        "colab": {
          "base_uri": "https://localhost:8080/"
        },
        "collapsed": true,
        "id": "Cw9Dp5tfGuYM",
        "outputId": "69245bed-79ff-4416-847b-dcd0088b7bdd"
      },
      "execution_count": null,
      "outputs": [
        {
          "output_type": "stream",
          "name": "stderr",
          "text": [
            "INFO:__main__:Performing add operation with x=10, y=5\n",
            "INFO:__main__:Operation successful. Result: 15\n",
            "INFO:__main__:Performing divide operation with x=10, y=0\n",
            "ERROR:__main__:Error: Cannot divide by zero\n",
            "INFO:__main__:Performing add operation with x=10, y=abc\n",
            "ERROR:__main__:Error: Invalid data type. Please provide numbers as input.\n",
            "INFO:__main__:Performing invalid operation with x=10, y=5\n",
            "ERROR:__main__:Error: Invalid operation type.  Choose 'add', 'subtract', 'multiply', or 'divide'.\n",
            "INFO:__main__:Performing multiply operation with x=10.5, y=2\n",
            "INFO:__main__:Operation successful. Result: 21.0\n",
            "INFO:__main__:Program execution complete.\n"
          ]
        }
      ]
    },
    {
      "cell_type": "code",
      "source": [
        "# 15. Write a Python program that prints the content of a file and handles the case when the file is empty\n",
        "import os\n",
        "\n",
        "def print_file_content(filename):\n",
        "    try:\n",
        "        with open(filename, 'r') as file:\n",
        "            content = file.read()\n",
        "\n",
        "        if not content:\n",
        "            print(f\"Error: The file '{filename}' is empty.\")\n",
        "        else:\n",
        "            print(f\"Content of '{filename}':\\n{content}\")\n",
        "\n",
        "    except FileNotFoundError:\n",
        "        print(f\"Error: File not found - {filename}\")\n",
        "    except Exception as e:\n",
        "        print(f\"An error occurred while reading the file: {e}\")\n",
        "\n",
        "def main():\n",
        "    test_file = \"my_text_file.txt\"\n",
        "    if not os.path.exists(test_file):\n",
        "        with open(test_file, 'w') as f:\n",
        "            f.write(\"Hello, this is a test file.\\nIt contains some text.\")\n",
        "\n",
        "    print_file_content(\"non_existent_file.txt\")\n",
        "    print_file_content(test_file)\n",
        "\n",
        "    empty_file = \"empty_file.txt\"\n",
        "    with open(empty_file, 'w') as f:\n",
        "        pass\n",
        "\n",
        "    print_file_content(empty_file)\n",
        "\n",
        "    print(\"File processing complete.\")\n",
        "\n",
        "if __name__ == \"__main__\":\n",
        "    main()\n"
      ],
      "metadata": {
        "colab": {
          "base_uri": "https://localhost:8080/"
        },
        "collapsed": true,
        "id": "IgpOhbFkHZgV",
        "outputId": "ffb67856-2173-4466-ad83-f6b629fba301"
      },
      "execution_count": null,
      "outputs": [
        {
          "output_type": "stream",
          "name": "stdout",
          "text": [
            "Error: File not found - non_existent_file.txt\n",
            "Content of 'my_text_file.txt':\n",
            "Hello, this is a test file.\n",
            "It contains some text.\n",
            "Error: The file 'empty_file.txt' is empty.\n",
            "File processing complete.\n"
          ]
        }
      ]
    },
    {
      "cell_type": "code",
      "source": [
        "# 16. Demonstrate how to use memory profiling to check the memory usage of a small program\n",
        "import logging\n",
        "from memory_profiler import profile\n",
        "\n",
        "# Configure logging\n",
        "logging.basicConfig(\n",
        "    level=logging.INFO,\n",
        "    format=\"%(asctime)s - %(levelname)s - %(message)s\",\n",
        "    filename=\"memory.log\"\n",
        ")\n",
        "\n",
        "@profile\n",
        "def process_data():\n",
        "    logging.info(\"Creating a list.\")\n",
        "    my_list = list(range(100_000))  # 100,000 numbers\n",
        "\n",
        "    logging.info(\"Reading file.\")\n",
        "    try:\n",
        "        with open(\"data.txt\", \"r\") as file:\n",
        "            content = file.read()\n",
        "            logging.info(\"File read successfully.\")\n",
        "            return content\n",
        "    except FileNotFoundError:\n",
        "        logging.error(\"File 'data.txt' not found.\")\n",
        "        return \"No file.\"\n",
        "\n",
        "if __name__ == \"__main__\":\n",
        "    result = process_data()\n",
        "    print(f\"Result: {result}\")"
      ],
      "metadata": {
        "colab": {
          "base_uri": "https://localhost:8080/"
        },
        "id": "2ITi-WC5HrlS",
        "outputId": "3de293b5-a825-4e13-e005-e35b5a8b3295"
      },
      "execution_count": null,
      "outputs": [
        {
          "output_type": "stream",
          "name": "stderr",
          "text": [
            "ERROR:root:File 'data.txt' not found.\n"
          ]
        },
        {
          "output_type": "stream",
          "name": "stdout",
          "text": [
            "ERROR: Could not find file <ipython-input-33-f3f7dacaf867>\n",
            "NOTE: %mprun can only be used on functions defined in physical files, and not in the IPython environment.\n",
            "Result: No file.\n"
          ]
        }
      ]
    },
    {
      "cell_type": "code",
      "source": [
        "# 17. Write a Python program to create and write a list of numbers to a file, one number per line\n",
        "def write_list_to_file(numbers, filename=\"numbers.txt\"):\n",
        "    try:\n",
        "        with open(filename, 'w') as file:\n",
        "            for number in numbers:\n",
        "                file.write(str(number) + '\\n')\n",
        "        print(f\"Successfully wrote the list to '{filename}'.\")\n",
        "\n",
        "    except TypeError:\n",
        "        print(\"Error: Invalid input.  The 'numbers' argument must be a list.\")\n",
        "    except Exception as e:\n",
        "        print(f\"An unexpected error occurred: {e}\")\n",
        "\n",
        "def main():\n",
        "    number_list = [1, 2.5, 3, 4.75, 5, 6.2, 7, 8.9, 9, 10.01]\n",
        "\n",
        "    write_list_to_file(number_list)\n",
        "\n",
        "    write_list_to_file(number_list, \"my_numbers.txt\")\n",
        "\n",
        "    write_list_to_file([])\n",
        "\n",
        "    write_list_to_file(\"not a list\", \"error_numbers.txt\")\n",
        "\n",
        "if __name__ == \"__main__\":\n",
        "    main()\n"
      ],
      "metadata": {
        "colab": {
          "base_uri": "https://localhost:8080/"
        },
        "collapsed": true,
        "id": "H9cw-FnWJ3Qa",
        "outputId": "eaf3e603-ff47-47c4-f0bc-c2f1e98867d4"
      },
      "execution_count": null,
      "outputs": [
        {
          "output_type": "stream",
          "name": "stdout",
          "text": [
            "Successfully wrote the list to 'numbers.txt'.\n",
            "Successfully wrote the list to 'my_numbers.txt'.\n",
            "Successfully wrote the list to 'numbers.txt'.\n",
            "Successfully wrote the list to 'error_numbers.txt'.\n"
          ]
        }
      ]
    },
    {
      "cell_type": "code",
      "source": [
        "# 18. How would you implement a basic logging setup that logs to a file with rotation after 1MB\n",
        "import logging\n",
        "from logging.handlers import RotatingFileHandler\n",
        "\n",
        "logger = logging.getLogger()\n",
        "logger.setLevel(logging.INFO)\n",
        "\n",
        "handler = RotatingFileHandler(\"app.log\", maxBytes=1_000_000, backupCount=3)\n",
        "handler.setFormatter(logging.Formatter(\"%(asctime)s - %(levelname)s - %(message)s\"))\n",
        "logger.addHandler(handler)\n",
        "\n",
        "console_handler = logging.StreamHandler()\n",
        "console_handler.setFormatter(logging.Formatter(\"%(asctime)s - %(levelname)s - %(message)s\"))\n",
        "logger.addHandler(console_handler)\n",
        "\n",
        "logger.info(\"Program started.\")\n",
        "\n",
        "numbers = [1, 2, 3, 4, 5]\n",
        "filename = \"numbers.txt\"\n",
        "\n",
        "try:\n",
        "    with open(filename, \"w\") as file:\n",
        "        for number in numbers:\n",
        "            file.write(f\"{number}\\n\")\n",
        "    logger.info(f\"Successfully wrote {len(numbers)} numbers to '{filename}'.\")\n",
        "    print(f\"Successfully wrote numbers to '{filename}'.\")\n",
        "except IOError as e:\n",
        "    logger.error(f\"Error writing to '{filename}': {e}\")\n",
        "    print(f\"Error writing to '{filename}': {e}\")\n",
        "except Exception as e:\n",
        "    logger.critical(f\"Unexpected error: {e}\")\n",
        "    print(f\"Unexpected error: {e}\")\n",
        "finally:\n",
        "    logger.info(\"Program completed.\")"
      ],
      "metadata": {
        "colab": {
          "base_uri": "https://localhost:8080/"
        },
        "collapsed": true,
        "id": "yrR8Fn_rKjUD",
        "outputId": "2e653647-5b89-4df5-b1bf-7eb631350224"
      },
      "execution_count": null,
      "outputs": [
        {
          "output_type": "stream",
          "name": "stderr",
          "text": [
            "INFO:root:Program started.\n",
            "2025-04-21 11:48:20,411 - INFO - Program started.\n",
            "INFO:root:Successfully wrote 5 numbers to 'numbers.txt'.\n",
            "2025-04-21 11:48:20,416 - INFO - Successfully wrote 5 numbers to 'numbers.txt'.\n",
            "INFO:root:Program completed.\n",
            "2025-04-21 11:48:20,417 - INFO - Program completed.\n"
          ]
        },
        {
          "output_type": "stream",
          "name": "stdout",
          "text": [
            "Successfully wrote numbers to 'numbers.txt'.\n"
          ]
        }
      ]
    },
    {
      "cell_type": "code",
      "source": [
        "# 19. Write a program that handles both IndexError and KeyError using a try-except block\n",
        "def access_data_structure(data, index_or_key):\n",
        "    try:\n",
        "        value = data[index_or_key]\n",
        "        print(f\"Accessed value: {value}\")\n",
        "        return value\n",
        "    except (IndexError, KeyError) as e:\n",
        "        print(f\"Error: {e}\")\n",
        "        return None\n",
        "    except TypeError:\n",
        "        print(\"Error: Invalid data type.  Please provide a list or dictionary.\")\n",
        "        return None\n",
        "    except Exception as e:\n",
        "        print(f\"An unexpected error occurred: {e}\")\n",
        "        return None\n",
        "\n",
        "def main():\n",
        "    my_list = [10, 20, 30, 40, 50]\n",
        "\n",
        "    my_dict = {\n",
        "        \"name\": \"Alice\",\n",
        "        \"age\": 30,\n",
        "        \"city\": \"New York\"\n",
        "    }\n",
        "\n",
        "    access_data_structure(my_list, 2)\n",
        "    access_data_structure(my_list, 5)\n",
        "    access_data_structure(my_list, \"name\")\n",
        "\n",
        "    access_data_structure(my_dict, \"age\")\n",
        "    access_data_structure(my_dict, \"salary\")\n",
        "    access_data_structure(my_dict, 1)\n",
        "\n",
        "    access_data_structure(\"hello\", 0)\n",
        "\n",
        "    print(\"Program execution complete.\")\n",
        "\n",
        "if __name__ == \"__main__\":\n",
        "    main()\n"
      ],
      "metadata": {
        "colab": {
          "base_uri": "https://localhost:8080/"
        },
        "collapsed": true,
        "id": "A4yqYjEQLZOb",
        "outputId": "dc82a084-ed8e-4144-d3dd-285000ff6ee4"
      },
      "execution_count": null,
      "outputs": [
        {
          "output_type": "stream",
          "name": "stdout",
          "text": [
            "Accessed value: 30\n",
            "Error: list index out of range\n",
            "Error: Invalid data type.  Please provide a list or dictionary.\n",
            "Accessed value: 30\n",
            "Error: 'salary'\n",
            "Error: 1\n",
            "Accessed value: h\n",
            "Program execution complete.\n"
          ]
        }
      ]
    },
    {
      "cell_type": "code",
      "source": [
        "# 20. How would you open a file and read its contents using a context manager in Python\n",
        "def read_file_with_context_manager(filename):\n",
        "    try:\n",
        "        with open(filename, 'r') as file:\n",
        "            content = file.read()\n",
        "        print(f\"Successfully read file: {filename}\")\n",
        "        return content\n",
        "    except FileNotFoundError:\n",
        "        print(f\"Error: File not found - {filename}\")\n",
        "        return None\n",
        "    except Exception as e:\n",
        "        print(f\"An unexpected error occurred: {e}\")\n",
        "        return None\n",
        "\n",
        "def main():\n",
        "    test_file = \"my_test_file.txt\"\n",
        "    try:\n",
        "        with open(test_file, 'w') as f:\n",
        "            f.write(\"This is a test file.\\nIt contains multiple lines.\\nFor demonstration purposes.\")\n",
        "    except Exception as e:\n",
        "        print(f\"Error creating dummy file: {e}\")\n",
        "        return\n",
        "\n",
        "    file_content = read_file_with_context_manager(test_file)\n",
        "\n",
        "    if file_content:\n",
        "        print(\"\\nFile Content:\")\n",
        "        print(file_content)\n",
        "\n",
        "    non_existent_file_content = read_file_with_context_manager(\"non_existent_file.txt\")\n",
        "    if non_existent_file_content is None:\n",
        "        print(\"\\nAttempt to read non-existent file was handled correctly.\")\n",
        "\n",
        "    print(\"File reading demonstration complete.\")\n",
        "\n",
        "if __name__ == \"__main__\":\n",
        "    main()\n"
      ],
      "metadata": {
        "colab": {
          "base_uri": "https://localhost:8080/"
        },
        "collapsed": true,
        "id": "f3y-sggPLvpp",
        "outputId": "ebce9063-ac3f-46cd-c34b-6a734bad6e8d"
      },
      "execution_count": null,
      "outputs": [
        {
          "output_type": "stream",
          "name": "stdout",
          "text": [
            "Successfully read file: my_test_file.txt\n",
            "\n",
            "File Content:\n",
            "This is a test file.\n",
            "It contains multiple lines.\n",
            "For demonstration purposes.\n",
            "Error: File not found - non_existent_file.txt\n",
            "\n",
            "Attempt to read non-existent file was handled correctly.\n",
            "File reading demonstration complete.\n"
          ]
        }
      ]
    },
    {
      "cell_type": "code",
      "source": [
        "# 21. Write a Python program that reads a file and prints the number of occurrences of a specific word\n",
        "import re  # Import the regular expression module\n",
        "\n",
        "def count_word_occurrences(filename, word):\n",
        "    try:\n",
        "        with open(filename, 'r') as file:\n",
        "            text = file.read()\n",
        "\n",
        "        pattern = re.compile(r'\\b' + re.escape(word) + r'\\b', re.IGNORECASE)\n",
        "        count = len(re.findall(pattern, text))\n",
        "\n",
        "        print(f\"The word '{word}' appears {count} times in the file '{filename}'.\")\n",
        "        return count\n",
        "\n",
        "    except FileNotFoundError:\n",
        "        print(f\"Error: File not found - {filename}\")\n",
        "        return 0\n",
        "    except Exception as e:\n",
        "        print(f\"An unexpected error occurred: {e}\")\n",
        "        return 0\n",
        "\n",
        "def main():\n",
        "    test_file = \"sample_text.txt\"\n",
        "    try:\n",
        "        with open(test_file, 'w') as f:\n",
        "            f.write(\"This is a sample text file.  The word 'sample' appears twice, and 'text' appears once. Sample Text file.\\n\")\n",
        "    except Exception as e:\n",
        "        print(f\"Error creating sample file: {e}\")\n",
        "        return\n",
        "\n",
        "    word_to_count = \"sample\"\n",
        "\n",
        "    count_word_occurrences(test_file, word_to_count)\n",
        "\n",
        "    word_to_count = \"text\"\n",
        "    count_word_occurrences(test_file, word_to_count)\n",
        "\n",
        "    count_word_occurrences(\"non_existent_file.txt\", \"word\")\n",
        "\n",
        "    print(\"Word counting demonstration complete.\")\n",
        "\n",
        "if __name__ == \"__main__\":\n",
        "    main()\n"
      ],
      "metadata": {
        "colab": {
          "base_uri": "https://localhost:8080/"
        },
        "collapsed": true,
        "id": "X6DQTCNPMlJe",
        "outputId": "e2c019ce-5bd3-4f9c-cc7a-aa9ae97e211e"
      },
      "execution_count": null,
      "outputs": [
        {
          "output_type": "stream",
          "name": "stdout",
          "text": [
            "The word 'sample' appears 3 times in the file 'sample_text.txt'.\n",
            "The word 'text' appears 3 times in the file 'sample_text.txt'.\n",
            "Error: File not found - non_existent_file.txt\n",
            "Word counting demonstration complete.\n"
          ]
        }
      ]
    },
    {
      "cell_type": "code",
      "source": [
        "# 22. How can you check if a file is empty before attempting to read its contents?\n",
        "# Use os.path.getsize() to check if the file size is 0 after confirming the file exists with os.path.exists(). If the file is not empty, read it using a context manager (with statement). Handle errors like FileNotFoundError and log operations."
      ],
      "metadata": {
        "id": "8umnrYaOM3XR"
      },
      "execution_count": null,
      "outputs": []
    },
    {
      "cell_type": "code",
      "source": [
        "# 23. Write a Python program that writes to a log file when an error occurs during file handling\n",
        "import os\n",
        "import logging\n",
        "\n",
        "logging.basicConfig(filename='file_handling_errors.log', level=logging.ERROR,\n",
        "                    format='%(asctime)s - %(levelname)s - %(message)s')\n",
        "\n",
        "def read_file_safely(filename):\n",
        "    try:\n",
        "        if not os.path.exists(filename):\n",
        "            error_message = f\"Error: File not found - {filename}\"\n",
        "            logging.error(error_message)\n",
        "            raise FileNotFoundError(error_message)\n",
        "\n",
        "        if os.path.getsize(filename) == 0:\n",
        "            error_message = f\"Error: The file '{filename}' is empty.\"\n",
        "            logging.error(error_message)\n",
        "            print(error_message)\n",
        "            return\n",
        "\n",
        "        with open(filename, 'r') as file:\n",
        "            content = file.read()\n",
        "\n",
        "        print(f\"Content of '{filename}':\\n{content}\")\n",
        "\n",
        "    except FileNotFoundError as e:\n",
        "        print(e)\n",
        "    except Exception as e:\n",
        "        error_message = f\"An unexpected error occurred: {e}\"\n",
        "        logging.error(error_message)\n",
        "        print(error_message)\n",
        "\n",
        "def main():\n",
        "    test_file = \"my_text_file.txt\"\n",
        "    if not os.path.exists(test_file):\n",
        "        try:\n",
        "            with open(test_file, 'w') as f:\n",
        "                f.write(\"This is a test file.\\nIt contains some text.\")\n",
        "        except Exception as e:\n",
        "            error_message = f\"Error creating dummy file: {e}\"\n",
        "            logging.error(error_message)\n",
        "            print(error_message)\n",
        "            return\n",
        "\n",
        "    read_file_safely(\"non_existent_file.txt\")\n",
        "\n",
        "    read_file_safely(test_file)\n",
        "\n",
        "    empty_file = \"empty_file.txt\"\n",
        "    try:\n",
        "        with open(empty_file, 'w') as f:\n",
        "            pass\n",
        "    except Exception as e:\n",
        "        error_message = f\"Error creating empty file: {e}\"\n",
        "        logging.error(error_message)\n",
        "        print(error_message)\n",
        "        return\n",
        "\n",
        "    read_file_safely(empty_file)\n",
        "\n",
        "    print(\"File processing complete.\")\n",
        "\n",
        "if __name__ == \"__main__\":\n",
        "    main()\n"
      ],
      "metadata": {
        "colab": {
          "base_uri": "https://localhost:8080/"
        },
        "collapsed": true,
        "id": "jUEzA9LANbJC",
        "outputId": "46cee28b-800a-4225-fdc9-1477b3bf2194"
      },
      "execution_count": null,
      "outputs": [
        {
          "output_type": "stream",
          "name": "stderr",
          "text": [
            "ERROR:root:Error: File not found - non_existent_file.txt\n",
            "2025-04-21 11:59:03,524 - ERROR - Error: File not found - non_existent_file.txt\n",
            "ERROR:root:Error: The file 'empty_file.txt' is empty.\n",
            "2025-04-21 11:59:03,526 - ERROR - Error: The file 'empty_file.txt' is empty.\n"
          ]
        },
        {
          "output_type": "stream",
          "name": "stdout",
          "text": [
            "Error: File not found - non_existent_file.txt\n",
            "Content of 'my_text_file.txt':\n",
            "Hello, this is a test file.\n",
            "It contains some text.\n",
            "Error: The file 'empty_file.txt' is empty.\n",
            "File processing complete.\n"
          ]
        }
      ]
    }
  ]
}